{
 "cells": [
  {
   "cell_type": "code",
   "execution_count": 1,
   "id": "fd1fde77",
   "metadata": {},
   "outputs": [],
   "source": [
    "import pandas as pd"
   ]
  },
  {
   "cell_type": "code",
   "execution_count": 24,
   "id": "8784408b",
   "metadata": {},
   "outputs": [
    {
     "name": "stderr",
     "output_type": "stream",
     "text": [
      "/var/folders/9n/jq3vft7d53xb6sk6wnkx6c_w0000gn/T/ipykernel_13057/3163736403.py:1: DtypeWarning: Columns (2,3,4,6,9) have mixed types. Specify dtype option on import or set low_memory=False.\n",
      "  df_branded = pd.read_csv('data/2021-04-28/FoodData_Central_csv_2021-04-28/branded_food.csv')\n"
     ]
    }
   ],
   "source": [
    "df_branded = pd.read_csv('data/2021-04-28/FoodData_Central_csv_2021-04-28/branded_food.csv')"
   ]
  },
  {
   "cell_type": "code",
   "execution_count": 25,
   "id": "d22a2e8e",
   "metadata": {},
   "outputs": [
    {
     "data": {
      "text/plain": [
       "fdc_id                           int64\n",
       "brand_owner                     object\n",
       "brand_name                      object\n",
       "subbrand_name                   object\n",
       "gtin_upc                        object\n",
       "ingredients                     object\n",
       "not_a_significant_source_of     object\n",
       "serving_size                   float64\n",
       "serving_size_unit               object\n",
       "household_serving_fulltext      object\n",
       "branded_food_category           object\n",
       "data_source                     object\n",
       "modified_date                   object\n",
       "available_date                  object\n",
       "market_country                  object\n",
       "discontinued_date              float64\n",
       "dtype: object"
      ]
     },
     "execution_count": 25,
     "metadata": {},
     "output_type": "execute_result"
    }
   ],
   "source": [
    "df_branded.dtypes"
   ]
  },
  {
   "cell_type": "code",
   "execution_count": 17,
   "id": "33a8d81a",
   "metadata": {},
   "outputs": [],
   "source": [
    "df_food = pd.read_csv('data/2021-04-28/FoodData_Central_csv_2021-04-28/food.csv')"
   ]
  },
  {
   "cell_type": "code",
   "execution_count": 26,
   "id": "5157ce76",
   "metadata": {},
   "outputs": [
    {
     "data": {
      "text/plain": [
       "fdc_id                int64\n",
       "data_type            object\n",
       "description          object\n",
       "food_category_id    float64\n",
       "publication_date     object\n",
       "dtype: object"
      ]
     },
     "execution_count": 26,
     "metadata": {},
     "output_type": "execute_result"
    }
   ],
   "source": [
    "df_food.dtypes"
   ]
  },
  {
   "cell_type": "code",
   "execution_count": 19,
   "id": "96a0d73a",
   "metadata": {},
   "outputs": [
    {
     "name": "stderr",
     "output_type": "stream",
     "text": [
      "/var/folders/9n/jq3vft7d53xb6sk6wnkx6c_w0000gn/T/ipykernel_13057/826540379.py:1: DtypeWarning: Columns (9) have mixed types. Specify dtype option on import or set low_memory=False.\n",
      "  df_nutrient = pd.read_csv('data/2021-04-28/FoodData_Central_csv_2021-04-28/food_nutrient.csv')\n"
     ]
    }
   ],
   "source": [
    "df_nutrient = pd.read_csv('data/2021-04-28/FoodData_Central_csv_2021-04-28/food_nutrient.csv')"
   ]
  },
  {
   "cell_type": "code",
   "execution_count": 27,
   "id": "f697ef46",
   "metadata": {},
   "outputs": [
    {
     "data": {
      "text/plain": [
       "id                     int64\n",
       "fdc_id                 int64\n",
       "nutrient_id            int64\n",
       "amount               float64\n",
       "data_points          float64\n",
       "derivation_id        float64\n",
       "min                  float64\n",
       "max                  float64\n",
       "median               float64\n",
       "footnote              object\n",
       "min_year_acquired    float64\n",
       "dtype: object"
      ]
     },
     "execution_count": 27,
     "metadata": {},
     "output_type": "execute_result"
    }
   ],
   "source": [
    "df_nutrient.dtypes"
   ]
  },
  {
   "cell_type": "code",
   "execution_count": 21,
   "id": "159cccd9",
   "metadata": {},
   "outputs": [
    {
     "data": {
      "text/html": [
       "<div>\n",
       "<style scoped>\n",
       "    .dataframe tbody tr th:only-of-type {\n",
       "        vertical-align: middle;\n",
       "    }\n",
       "\n",
       "    .dataframe tbody tr th {\n",
       "        vertical-align: top;\n",
       "    }\n",
       "\n",
       "    .dataframe thead th {\n",
       "        text-align: right;\n",
       "    }\n",
       "</style>\n",
       "<table border=\"1\" class=\"dataframe\">\n",
       "  <thead>\n",
       "    <tr style=\"text-align: right;\">\n",
       "      <th></th>\n",
       "      <th>fdc_id</th>\n",
       "      <th>data_type</th>\n",
       "      <th>description</th>\n",
       "      <th>food_category_id</th>\n",
       "      <th>publication_date</th>\n",
       "    </tr>\n",
       "  </thead>\n",
       "  <tbody>\n",
       "    <tr>\n",
       "      <th>0</th>\n",
       "      <td>1105904</td>\n",
       "      <td>branded_food</td>\n",
       "      <td>WESSON Vegetable Oil 1 GAL</td>\n",
       "      <td>NaN</td>\n",
       "      <td>2020-11-13</td>\n",
       "    </tr>\n",
       "    <tr>\n",
       "      <th>1</th>\n",
       "      <td>1105905</td>\n",
       "      <td>branded_food</td>\n",
       "      <td>SWANSON BROTH BEEF</td>\n",
       "      <td>NaN</td>\n",
       "      <td>2020-11-13</td>\n",
       "    </tr>\n",
       "    <tr>\n",
       "      <th>2</th>\n",
       "      <td>1105906</td>\n",
       "      <td>branded_food</td>\n",
       "      <td>CAMPBELL'S SLOW KETTLE SOUP CLAM CHOWDER</td>\n",
       "      <td>NaN</td>\n",
       "      <td>2020-11-13</td>\n",
       "    </tr>\n",
       "    <tr>\n",
       "      <th>3</th>\n",
       "      <td>1105907</td>\n",
       "      <td>branded_food</td>\n",
       "      <td>CAMPBELL'S SLOW KETTLE SOUP CHEESE BROCCOLI</td>\n",
       "      <td>NaN</td>\n",
       "      <td>2020-11-13</td>\n",
       "    </tr>\n",
       "    <tr>\n",
       "      <th>4</th>\n",
       "      <td>1105898</td>\n",
       "      <td>experimental_food</td>\n",
       "      <td>Discrepancy between the Atwater factor predict...</td>\n",
       "      <td>NaN</td>\n",
       "      <td>2020-10-30</td>\n",
       "    </tr>\n",
       "  </tbody>\n",
       "</table>\n",
       "</div>"
      ],
      "text/plain": [
       "    fdc_id          data_type  \\\n",
       "0  1105904       branded_food   \n",
       "1  1105905       branded_food   \n",
       "2  1105906       branded_food   \n",
       "3  1105907       branded_food   \n",
       "4  1105898  experimental_food   \n",
       "\n",
       "                                         description  food_category_id  \\\n",
       "0                         WESSON Vegetable Oil 1 GAL               NaN   \n",
       "1                                 SWANSON BROTH BEEF               NaN   \n",
       "2           CAMPBELL'S SLOW KETTLE SOUP CLAM CHOWDER               NaN   \n",
       "3        CAMPBELL'S SLOW KETTLE SOUP CHEESE BROCCOLI               NaN   \n",
       "4  Discrepancy between the Atwater factor predict...               NaN   \n",
       "\n",
       "  publication_date  \n",
       "0       2020-11-13  \n",
       "1       2020-11-13  \n",
       "2       2020-11-13  \n",
       "3       2020-11-13  \n",
       "4       2020-10-30  "
      ]
     },
     "execution_count": 21,
     "metadata": {},
     "output_type": "execute_result"
    }
   ],
   "source": [
    "df_food.head()"
   ]
  },
  {
   "cell_type": "code",
   "execution_count": null,
   "id": "54fb630a",
   "metadata": {},
   "outputs": [],
   "source": []
  }
 ],
 "metadata": {
  "kernelspec": {
   "display_name": "Python 3 (ipykernel)",
   "language": "python",
   "name": "python3"
  },
  "language_info": {
   "codemirror_mode": {
    "name": "ipython",
    "version": 3
   },
   "file_extension": ".py",
   "mimetype": "text/x-python",
   "name": "python",
   "nbconvert_exporter": "python",
   "pygments_lexer": "ipython3",
   "version": "3.9.13"
  }
 },
 "nbformat": 4,
 "nbformat_minor": 5
}
