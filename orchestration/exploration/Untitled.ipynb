{
 "cells": [
  {
   "cell_type": "code",
   "execution_count": 9,
   "id": "2f4a0c66",
   "metadata": {},
   "outputs": [],
   "source": [
    "\n",
    "from pathlib import Path\n",
    "import pandas as pd\n",
    "from datetime import timedelta\n",
    "import os\n",
    "import zipfile\n",
    "import urllib.request    "
   ]
  },
  {
   "cell_type": "code",
   "execution_count": 10,
   "id": "337e0905",
   "metadata": {},
   "outputs": [],
   "source": [
    "year = 2021\n",
    "month = '04'\n",
    "\n",
    "dataset_file = f\"{year}-{month}-28\"\n",
    "dataset_url = f\"https://fdc.nal.usda.gov/fdc-datasets/FoodData_Central_csv_{dataset_file}.zip\""
   ]
  },
  {
   "cell_type": "code",
   "execution_count": 12,
   "id": "1b66796a",
   "metadata": {},
   "outputs": [
    {
     "name": "stdout",
     "output_type": "stream",
     "text": [
      "--2023-03-16 21:17:23--  https://fdc.nal.usda.gov/fdc-datasets/FoodData_Central_csv_2021-04-28.zip\n",
      "Resolving fdc.nal.usda.gov (fdc.nal.usda.gov)... 52.245.228.37\n",
      "Connecting to fdc.nal.usda.gov (fdc.nal.usda.gov)|52.245.228.37|:443... connected.\n",
      "HTTP request sent, awaiting response... 200 OK\n",
      "Length: 224808364 (214M) [application/zip]\n",
      "Saving to: 'FoodData_Central_csv_2021-04-28.zip'\n",
      "\n",
      "FoodData_Central_cs 100%[===================>] 214.39M   421KB/s    in 5m 4s   \n",
      "\n",
      "2023-03-16 21:22:28 (723 KB/s) - 'FoodData_Central_csv_2021-04-28.zip' saved [224808364/224808364]\n",
      "\n"
     ]
    }
   ],
   "source": [
    "!wget https://fdc.nal.usda.gov/fdc-datasets/FoodData_Central_csv_2021-04-28.zip\n"
   ]
  },
  {
   "cell_type": "code",
   "execution_count": 13,
   "id": "8eadb8b8",
   "metadata": {},
   "outputs": [
    {
     "data": {
      "text/plain": [
       "'/Users/danielrigney/Desktop/de_project_nutrient_data/orchestration/exploration'"
      ]
     },
     "execution_count": 13,
     "metadata": {},
     "output_type": "execute_result"
    }
   ],
   "source": [
    "pwd"
   ]
  },
  {
   "cell_type": "code",
   "execution_count": 15,
   "id": "36ac6826",
   "metadata": {},
   "outputs": [],
   "source": [
    "zip_file_path = \"./FoodData_Central_csv_2021-04-28.zip\"\n",
    "\n",
    "# Open the zipped folder\n",
    "with zipfile.ZipFile(zip_file_path, 'r') as zip_ref:\n",
    "    \n",
    "    # Extract all files to a specified directory\n",
    "    zip_ref.extractall(\"./raw_data\")"
   ]
  },
  {
   "cell_type": "code",
   "execution_count": null,
   "id": "e459e8d2",
   "metadata": {},
   "outputs": [],
   "source": []
  }
 ],
 "metadata": {
  "kernelspec": {
   "display_name": "Python 3 (ipykernel)",
   "language": "python",
   "name": "python3"
  },
  "language_info": {
   "codemirror_mode": {
    "name": "ipython",
    "version": 3
   },
   "file_extension": ".py",
   "mimetype": "text/x-python",
   "name": "python",
   "nbconvert_exporter": "python",
   "pygments_lexer": "ipython3",
   "version": "3.9.13"
  }
 },
 "nbformat": 4,
 "nbformat_minor": 5
}
